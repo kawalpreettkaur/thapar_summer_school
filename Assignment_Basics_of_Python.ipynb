{
  "nbformat": 4,
  "nbformat_minor": 0,
  "metadata": {
    "colab": {
      "provenance": [],
      "include_colab_link": true
    },
    "kernelspec": {
      "name": "python3",
      "display_name": "Python 3"
    },
    "language_info": {
      "name": "python"
    }
  },
  "cells": [
    {
      "cell_type": "markdown",
      "metadata": {
        "id": "view-in-github",
        "colab_type": "text"
      },
      "source": [
        "<a href=\"https://colab.research.google.com/github/kawalpreettkaur/thapar_summer_school/blob/main/Assignment_Basics_of_Python.ipynb\" target=\"_parent\"><img src=\"https://colab.research.google.com/assets/colab-badge.svg\" alt=\"Open In Colab\"/></a>"
      ]
    },
    {
      "cell_type": "markdown",
      "source": [
        "# **Kawal Preet Kaur**\n",
        "\n"
      ],
      "metadata": {
        "id": "mtwNZ4E_4CtU"
      }
    },
    {
      "cell_type": "markdown",
      "source": [
        "# Q1. L is a list defined as L= [11, 12, 13, 14].\n",
        "\n",
        "\n",
        "(i) WAP to add 50 and 60 to L.\n",
        "\n"
      ],
      "metadata": {
        "id": "jHHVInoS2cqS"
      }
    },
    {
      "cell_type": "code",
      "execution_count": null,
      "metadata": {
        "colab": {
          "base_uri": "https://localhost:8080/"
        },
        "id": "YUkYOi_l2bbP",
        "outputId": "6ae98eb5-a57f-4e81-f6d4-354f13dd0269"
      },
      "outputs": [
        {
          "output_type": "stream",
          "name": "stdout",
          "text": [
            "[11, 12, 13, 14, 50, 60]\n"
          ]
        }
      ],
      "source": [
        "L= [11, 12, 13, 14]\n",
        "L.append(50)\n",
        "L.append(60)\n",
        "print(L)"
      ]
    },
    {
      "cell_type": "markdown",
      "source": [
        "(ii) WAP to remove 11 and 13from L.\n",
        "\n",
        "\n"
      ],
      "metadata": {
        "id": "ekyeJUnr2j8i"
      }
    },
    {
      "cell_type": "code",
      "source": [
        "L.remove(11)\n",
        "L.remove(13)\n",
        "L"
      ],
      "metadata": {
        "colab": {
          "base_uri": "https://localhost:8080/"
        },
        "id": "ni68SHTx2vmN",
        "outputId": "6f039e56-54a1-4407-9d6c-6f0b3cad7d00"
      },
      "execution_count": null,
      "outputs": [
        {
          "output_type": "execute_result",
          "data": {
            "text/plain": [
              "[12, 14, 50, 60]"
            ]
          },
          "metadata": {},
          "execution_count": 39
        }
      ]
    },
    {
      "cell_type": "markdown",
      "source": [
        "(iii) WAP to sort L in ascending order.\n"
      ],
      "metadata": {
        "id": "oDu9Apro2v9O"
      }
    },
    {
      "cell_type": "code",
      "source": [
        "L.sort()\n",
        "L"
      ],
      "metadata": {
        "colab": {
          "base_uri": "https://localhost:8080/"
        },
        "id": "uAZIuo2_26UI",
        "outputId": "fd67748b-0f51-4360-f369-4d4dc9c82b47"
      },
      "execution_count": null,
      "outputs": [
        {
          "output_type": "execute_result",
          "data": {
            "text/plain": [
              "[12, 14, 50, 60]"
            ]
          },
          "metadata": {},
          "execution_count": 40
        }
      ]
    },
    {
      "cell_type": "markdown",
      "source": [
        "(iv) WAP to sort L in descending order."
      ],
      "metadata": {
        "id": "FwPSazn-27po"
      }
    },
    {
      "cell_type": "code",
      "source": [
        "L.sort(reverse=True)\n",
        "L"
      ],
      "metadata": {
        "colab": {
          "base_uri": "https://localhost:8080/"
        },
        "id": "m71LFnV63IIg",
        "outputId": "d010a63e-a043-4348-a4bc-ea8d7070d571"
      },
      "execution_count": null,
      "outputs": [
        {
          "output_type": "execute_result",
          "data": {
            "text/plain": [
              "[60, 50, 14, 12]"
            ]
          },
          "metadata": {},
          "execution_count": 41
        }
      ]
    },
    {
      "cell_type": "markdown",
      "source": [
        " (v) WAP to search for 13 in L."
      ],
      "metadata": {
        "id": "gDZFKJTK3LO1"
      }
    },
    {
      "cell_type": "code",
      "source": [
        "13 in L"
      ],
      "metadata": {
        "colab": {
          "base_uri": "https://localhost:8080/"
        },
        "id": "01G9ZUV53Tgg",
        "outputId": "aa725a6f-ce03-403b-bf32-d15599151687"
      },
      "execution_count": null,
      "outputs": [
        {
          "output_type": "execute_result",
          "data": {
            "text/plain": [
              "False"
            ]
          },
          "metadata": {},
          "execution_count": 42
        }
      ]
    },
    {
      "cell_type": "markdown",
      "source": [
        "(vi) WAP to count the number of elements present in L."
      ],
      "metadata": {
        "id": "qUhHt2xx3cKe"
      }
    },
    {
      "cell_type": "code",
      "source": [
        "len(L)"
      ],
      "metadata": {
        "colab": {
          "base_uri": "https://localhost:8080/"
        },
        "id": "oyXDGFh_3fxY",
        "outputId": "4360ba51-423a-4988-afef-43b1a1d63cfc"
      },
      "execution_count": null,
      "outputs": [
        {
          "output_type": "execute_result",
          "data": {
            "text/plain": [
              "4"
            ]
          },
          "metadata": {},
          "execution_count": 43
        }
      ]
    },
    {
      "cell_type": "markdown",
      "source": [
        "vii) WAP to sum all the elements in L."
      ],
      "metadata": {
        "id": "ScFPeKjy3lxA"
      }
    },
    {
      "cell_type": "code",
      "source": [
        "sum(L)"
      ],
      "metadata": {
        "colab": {
          "base_uri": "https://localhost:8080/"
        },
        "id": "tfiEvzjC3lNQ",
        "outputId": "edeb9796-dd20-4ee7-f56c-42dd3c595434"
      },
      "execution_count": null,
      "outputs": [
        {
          "output_type": "execute_result",
          "data": {
            "text/plain": [
              "136"
            ]
          },
          "metadata": {},
          "execution_count": 44
        }
      ]
    },
    {
      "cell_type": "markdown",
      "source": [
        "(viii) WAP to sum all ODD numbers in L."
      ],
      "metadata": {
        "id": "x8Xv85583nCx"
      }
    },
    {
      "cell_type": "code",
      "source": [
        "s=0\n",
        "for i in L:\n",
        "  if i%2==0:\n",
        "    continue\n",
        "  else:\n",
        "    s +=i\n",
        "s"
      ],
      "metadata": {
        "colab": {
          "base_uri": "https://localhost:8080/"
        },
        "id": "qI999TCG3nQ5",
        "outputId": "d0146b27-57d7-45c0-b0ff-34a4d101eee8"
      },
      "execution_count": null,
      "outputs": [
        {
          "output_type": "execute_result",
          "data": {
            "text/plain": [
              "0"
            ]
          },
          "metadata": {},
          "execution_count": 45
        }
      ]
    },
    {
      "cell_type": "markdown",
      "source": [
        "(ix) WAP to sum all EVEN numbers in L."
      ],
      "metadata": {
        "id": "xEfbyRZL3nfW"
      }
    },
    {
      "cell_type": "code",
      "source": [
        "s=0\n",
        "for i in L:\n",
        "  if i%2==0:\n",
        "    s+=i\n",
        "\n",
        "s"
      ],
      "metadata": {
        "colab": {
          "base_uri": "https://localhost:8080/"
        },
        "id": "EVrJHXdK3np8",
        "outputId": "daaab951-7123-465b-b4ff-bff2e03b6441"
      },
      "execution_count": null,
      "outputs": [
        {
          "output_type": "execute_result",
          "data": {
            "text/plain": [
              "136"
            ]
          },
          "metadata": {},
          "execution_count": 46
        }
      ]
    },
    {
      "cell_type": "markdown",
      "source": [
        "(x) WAP to sum all PRIME numbers in L."
      ],
      "metadata": {
        "id": "fwVUF91j3pjy"
      }
    },
    {
      "cell_type": "code",
      "source": [
        "def is_prime(n):\n",
        "    if n < 2:\n",
        "        return False\n",
        "    for j in range(2, int(n**0.5) + 1):\n",
        "        if n % j == 0:\n",
        "            return False\n",
        "    return True\n",
        "\n",
        "s = 0\n",
        "for i in L:\n",
        "    if is_prime(i):\n",
        "        s += i\n",
        "\n",
        "print(\"Sum of prime numbers:\", s)\n"
      ],
      "metadata": {
        "colab": {
          "base_uri": "https://localhost:8080/"
        },
        "id": "QAMRdKRn3n_A",
        "outputId": "1d49a544-dca6-4f0e-9dc5-81fdb65c1d19"
      },
      "execution_count": null,
      "outputs": [
        {
          "output_type": "stream",
          "name": "stdout",
          "text": [
            "Sum of prime numbers: 0\n"
          ]
        }
      ]
    },
    {
      "cell_type": "markdown",
      "source": [
        "(xi) WAP to clear all the elements in L."
      ],
      "metadata": {
        "id": "cl2Q4ANY3oLd"
      }
    },
    {
      "cell_type": "code",
      "source": [
        "L.clear()\n"
      ],
      "metadata": {
        "id": "KotZfZKO3zwB"
      },
      "execution_count": null,
      "outputs": []
    },
    {
      "cell_type": "markdown",
      "source": [
        "(xii) WAP to delete L."
      ],
      "metadata": {
        "id": "sa1eHAoe3zSZ"
      }
    },
    {
      "cell_type": "code",
      "source": [
        "del L"
      ],
      "metadata": {
        "id": "eR7swDZF31t-"
      },
      "execution_count": null,
      "outputs": []
    },
    {
      "cell_type": "markdown",
      "source": [
        "# Q2. D is a dictionary defined as D= {1:5.6, 2:7.8, 3:6.6, 4:8.7, 5:7.7}.\n",
        "\n",
        "\n",
        "(i) WAP to add new entry in D; key=8 and value is 8.8\n"
      ],
      "metadata": {
        "id": "X9uK1tfZ8NGz"
      }
    },
    {
      "cell_type": "code",
      "source": [
        "D= {1:5.6, 2:7.8, 3:6.6, 4:8.7, 5:7.7}\n",
        "D[8]=8.8\n",
        "D"
      ],
      "metadata": {
        "colab": {
          "base_uri": "https://localhost:8080/"
        },
        "id": "TNyAPPRo8NY8",
        "outputId": "81417444-4aaf-492d-e533-1b1790a5d237"
      },
      "execution_count": null,
      "outputs": [
        {
          "output_type": "execute_result",
          "data": {
            "text/plain": [
              "{1: 5.6, 2: 7.8, 3: 6.6, 4: 8.7, 5: 7.7, 8: 8.8}"
            ]
          },
          "metadata": {},
          "execution_count": 56
        }
      ]
    },
    {
      "cell_type": "markdown",
      "source": [
        "(ii) WAP to remove key=2.\n"
      ],
      "metadata": {
        "id": "fUvBMM6e8Odl"
      }
    },
    {
      "cell_type": "code",
      "source": [
        "del D[2]\n",
        "D"
      ],
      "metadata": {
        "colab": {
          "base_uri": "https://localhost:8080/"
        },
        "id": "2K3vwMnb8O7r",
        "outputId": "5703e76f-725f-452c-dcc5-2ad11019490e"
      },
      "execution_count": null,
      "outputs": [
        {
          "output_type": "execute_result",
          "data": {
            "text/plain": [
              "{1: 5.6, 3: 6.6, 4: 8.7, 5: 7.7, 8: 8.8}"
            ]
          },
          "metadata": {},
          "execution_count": 57
        }
      ]
    },
    {
      "cell_type": "markdown",
      "source": [
        "(iii) WAP to check weather 6 key is present in D.\n"
      ],
      "metadata": {
        "id": "3z8vso0Z9FcC"
      }
    },
    {
      "cell_type": "code",
      "source": [
        "6 in D"
      ],
      "metadata": {
        "colab": {
          "base_uri": "https://localhost:8080/"
        },
        "id": "cKITtOo49ICD",
        "outputId": "b08e510d-56a3-4981-f8bd-e8e81b89b0a4"
      },
      "execution_count": null,
      "outputs": [
        {
          "output_type": "execute_result",
          "data": {
            "text/plain": [
              "False"
            ]
          },
          "metadata": {},
          "execution_count": 60
        }
      ]
    },
    {
      "cell_type": "markdown",
      "source": [
        "(iv) WAP to count the number of elements present in D.\n"
      ],
      "metadata": {
        "id": "mbSTKLPv9Fju"
      }
    },
    {
      "cell_type": "code",
      "source": [
        "len(D.values())\n"
      ],
      "metadata": {
        "colab": {
          "base_uri": "https://localhost:8080/"
        },
        "id": "AuFd2hz_9Uy-",
        "outputId": "fc2d2d1d-9127-49c3-d767-043f08b73df3"
      },
      "execution_count": null,
      "outputs": [
        {
          "output_type": "execute_result",
          "data": {
            "text/plain": [
              "5"
            ]
          },
          "metadata": {},
          "execution_count": 64
        }
      ]
    },
    {
      "cell_type": "code",
      "source": [
        "len(D.keys())\n"
      ],
      "metadata": {
        "colab": {
          "base_uri": "https://localhost:8080/"
        },
        "id": "_VOZO2Wd9l1u",
        "outputId": "502a5de4-6f04-4b23-968f-7f15853f5117"
      },
      "execution_count": null,
      "outputs": [
        {
          "output_type": "execute_result",
          "data": {
            "text/plain": [
              "5"
            ]
          },
          "metadata": {},
          "execution_count": 65
        }
      ]
    },
    {
      "cell_type": "code",
      "source": [
        "len(D)"
      ],
      "metadata": {
        "colab": {
          "base_uri": "https://localhost:8080/"
        },
        "id": "b6CfdoxK9nWS",
        "outputId": "019d1dcc-7f69-4fd9-f57e-0b1fec205065"
      },
      "execution_count": null,
      "outputs": [
        {
          "output_type": "execute_result",
          "data": {
            "text/plain": [
              "5"
            ]
          },
          "metadata": {},
          "execution_count": 66
        }
      ]
    },
    {
      "cell_type": "markdown",
      "source": [
        "(v) WAP to add all the values present D.\n"
      ],
      "metadata": {
        "id": "VfnBpM7_9VKf"
      }
    },
    {
      "cell_type": "code",
      "source": [
        "sum(D.values())"
      ],
      "metadata": {
        "colab": {
          "base_uri": "https://localhost:8080/"
        },
        "id": "Gha1yjBl9Val",
        "outputId": "b3dd4242-d3b4-4f8f-9926-aa33d37a4902"
      },
      "execution_count": null,
      "outputs": [
        {
          "output_type": "execute_result",
          "data": {
            "text/plain": [
              "37.4"
            ]
          },
          "metadata": {},
          "execution_count": 67
        }
      ]
    },
    {
      "cell_type": "markdown",
      "source": [
        "(vi) WAP to update the value of 3 to 7.1.\n"
      ],
      "metadata": {
        "id": "DuOkfJWY9VnT"
      }
    },
    {
      "cell_type": "code",
      "source": [
        "D[3] = 7.1\n",
        "D"
      ],
      "metadata": {
        "colab": {
          "base_uri": "https://localhost:8080/"
        },
        "id": "Po-5DA8J9Vzv",
        "outputId": "2b459d9e-1e20-49df-92ea-a8e9f20a160b"
      },
      "execution_count": null,
      "outputs": [
        {
          "output_type": "execute_result",
          "data": {
            "text/plain": [
              "{1: 5.6, 3: 7.1, 4: 8.7, 5: 7.7, 8: 8.8}"
            ]
          },
          "metadata": {},
          "execution_count": 69
        }
      ]
    },
    {
      "cell_type": "markdown",
      "source": [
        "(vii) WAP to clear the dictionary."
      ],
      "metadata": {
        "id": "XYNaMaRt9zLk"
      }
    },
    {
      "cell_type": "code",
      "source": [
        "D.clear()\n",
        "D"
      ],
      "metadata": {
        "colab": {
          "base_uri": "https://localhost:8080/"
        },
        "id": "m8-RvMsw9zeS",
        "outputId": "f6b6e1f2-b880-4b2a-b74b-a903cdcd7b9b"
      },
      "execution_count": null,
      "outputs": [
        {
          "output_type": "execute_result",
          "data": {
            "text/plain": [
              "{}"
            ]
          },
          "metadata": {},
          "execution_count": 71
        }
      ]
    },
    {
      "cell_type": "markdown",
      "source": [
        "# Q3. S1 is a set defined as S1= [10, 20, 30, 40, 50, 60].\n",
        "  #   S2 is a set defined as S2= [40, 50, 60, 70, 80, 90].\n",
        "\n",
        "\n",
        "(i) WAP to add 55 and 66 in Set S1.\n"
      ],
      "metadata": {
        "id": "lzu-EDXc-MFd"
      }
    },
    {
      "cell_type": "code",
      "source": [
        "S1= {10, 20, 30, 40, 50, 60}\n",
        "S2= {40, 50, 60, 70, 80, 90}\n",
        "S1.add(55)\n",
        "S1.add(66)\n",
        "S1"
      ],
      "metadata": {
        "colab": {
          "base_uri": "https://localhost:8080/"
        },
        "id": "QMdyDkUZ-LXF",
        "outputId": "0ed36df3-eb55-41a4-d6ef-a63d0b07e966"
      },
      "execution_count": null,
      "outputs": [
        {
          "output_type": "execute_result",
          "data": {
            "text/plain": [
              "{10, 20, 30, 40, 50, 55, 60, 66}"
            ]
          },
          "metadata": {},
          "execution_count": 80
        }
      ]
    },
    {
      "cell_type": "markdown",
      "source": [
        "(ii) WAP to remove 10 and 30 from Set S1.\n"
      ],
      "metadata": {
        "id": "-RX0xykV-Zlq"
      }
    },
    {
      "cell_type": "code",
      "source": [
        "S1.remove(10)\n",
        "S1"
      ],
      "metadata": {
        "colab": {
          "base_uri": "https://localhost:8080/"
        },
        "id": "k4PvLx9U-Zzn",
        "outputId": "9535ac94-7216-4f74-b011-0a50f67f67cc"
      },
      "execution_count": null,
      "outputs": [
        {
          "output_type": "execute_result",
          "data": {
            "text/plain": [
              "{20, 30, 40, 50, 55, 60, 66}"
            ]
          },
          "metadata": {},
          "execution_count": 81
        }
      ]
    },
    {
      "cell_type": "code",
      "source": [
        "S1.remove(30)\n",
        "S1"
      ],
      "metadata": {
        "colab": {
          "base_uri": "https://localhost:8080/"
        },
        "id": "wF2xXj___OQA",
        "outputId": "2eead051-6442-493a-8a61-914d816beaef"
      },
      "execution_count": null,
      "outputs": [
        {
          "output_type": "execute_result",
          "data": {
            "text/plain": [
              "{20, 40, 50, 55, 60, 66}"
            ]
          },
          "metadata": {},
          "execution_count": 82
        }
      ]
    },
    {
      "cell_type": "markdown",
      "source": [
        "(iii) WAP to check whether 40 is present in S1.\n",
        "\n"
      ],
      "metadata": {
        "id": "xupC7f1E-aA2"
      }
    },
    {
      "cell_type": "code",
      "source": [
        "40 in S1"
      ],
      "metadata": {
        "colab": {
          "base_uri": "https://localhost:8080/"
        },
        "id": "86Bqpmq1-aOE",
        "outputId": "7d10bcd1-2c4b-452c-b000-1d6190eca1d5"
      },
      "execution_count": null,
      "outputs": [
        {
          "output_type": "execute_result",
          "data": {
            "text/plain": [
              "True"
            ]
          },
          "metadata": {},
          "execution_count": 83
        }
      ]
    },
    {
      "cell_type": "markdown",
      "source": [
        "(iv) WAP to find the union between S1 and S2.\n"
      ],
      "metadata": {
        "id": "gjbxRa37-abh"
      }
    },
    {
      "cell_type": "code",
      "source": [
        "S3 = S1.union(S2)\n",
        "S3"
      ],
      "metadata": {
        "colab": {
          "base_uri": "https://localhost:8080/"
        },
        "id": "Lwz0XQEv-aoO",
        "outputId": "6312b8e6-f6ab-4d91-fff5-7b8b17cf4320"
      },
      "execution_count": null,
      "outputs": [
        {
          "output_type": "execute_result",
          "data": {
            "text/plain": [
              "{20, 40, 50, 55, 60, 66, 70, 80, 90}"
            ]
          },
          "metadata": {},
          "execution_count": 85
        }
      ]
    },
    {
      "cell_type": "markdown",
      "source": [
        "(v) WAP to find the intersection between S1 and S2.\n"
      ],
      "metadata": {
        "id": "RzPsBVyR-az0"
      }
    },
    {
      "cell_type": "code",
      "source": [
        "S4 = S1.intersection(S2)\n",
        "S4"
      ],
      "metadata": {
        "colab": {
          "base_uri": "https://localhost:8080/"
        },
        "id": "Mer5k9bP-a_p",
        "outputId": "9de8e771-b1ee-4e8f-87fd-b65c12c15b0d"
      },
      "execution_count": null,
      "outputs": [
        {
          "output_type": "execute_result",
          "data": {
            "text/plain": [
              "{40, 50, 60}"
            ]
          },
          "metadata": {},
          "execution_count": 86
        }
      ]
    },
    {
      "cell_type": "markdown",
      "source": [
        "(vi) WAP to find the S1 - S2."
      ],
      "metadata": {
        "id": "sNHaX-4y-ioG"
      }
    },
    {
      "cell_type": "code",
      "source": [
        "S5 = S1.difference(S2)\n",
        "S5"
      ],
      "metadata": {
        "colab": {
          "base_uri": "https://localhost:8080/"
        },
        "id": "JP8oKCyzAEFk",
        "outputId": "0748703f-3b0d-42c8-e300-7e8b748f2f94"
      },
      "execution_count": null,
      "outputs": [
        {
          "output_type": "execute_result",
          "data": {
            "text/plain": [
              "{20, 55, 66}"
            ]
          },
          "metadata": {},
          "execution_count": 88
        }
      ]
    },
    {
      "cell_type": "markdown",
      "source": [
        "# Q4. Write the following program.\n",
        "(i) WAP to print 100 random strings whose length between 6 and 8.\n"
      ],
      "metadata": {
        "id": "2jlU_arjAJTR"
      }
    },
    {
      "cell_type": "code",
      "source": [
        "from string import ascii_letters\n",
        "import random\n",
        "for i in range(100):\n",
        "  length = random.randint(6,8)\n",
        "  letters = ascii_letters\n",
        "  # sequence_string = random.choices(letters,k=length)\n",
        "  print(''.join(random.choices(letters, k=length)),end=' ')"
      ],
      "metadata": {
        "colab": {
          "base_uri": "https://localhost:8080/"
        },
        "id": "za-y8I1DANNK",
        "outputId": "bb258e76-36d0-43ce-fc63-9e050ce3c1e3"
      },
      "execution_count": null,
      "outputs": [
        {
          "output_type": "stream",
          "name": "stdout",
          "text": [
            "AvMkGMG KBUeRip hRqonq ZKNArty rSiKNa ZKproqdA bRyUBEj GlgeXEJ zDzInU mZcBya TRTLCUQB LSxPuyBr KlYmZkuV zSXaEm bftJpj euxCiaf HKPgTtx UFOxBsi VXNJpHcZ aRimhSmS dnDQwQb eOtJNzs FtnJwhVQ FjxOKpq XiIIhSl dZKjUM SqBvse rMULRyHW TImHgK xghpROKf QuvWcy TGnhOCpi jbNNKe VHgnVu qvIxtw vbiiDkQ wrWQIU zCfVvXI PetBmW eUfbtLcl VHffJDc GTFMidAJ ZCrfUmFq pdPlgxPH CkQVHOI YVaaCcj STuzeoA WttAYp pMjRaYn FmTeSa GCVIvI EVGBHp zYFNIreh huJzcJnn xNGWStg OJPDBi giPYGA xCVtOg MdetsBSh aTtNeJm bdrEYGN lWweRIR VZiEowc eOioRcyk LvPeobk fvKsKJ Zcaola dXgyGJ tDqZaV RpmxAO uTsqguhQ lcokibc VCNIcmLA nGnUFzMo rNtjIWB eEbBpH EeBcyYkC CWUdCX epdwpK NbBBcJY AgfyiLGU EUsWrrUW FpRbXNv fYchXyb QtCjyRon exVXNxpw LnAkdgeT WXqGqbr SgDwnH YtSsHf oGURcvir QVTLODC hAyyIaja EAXgsWFK fagbOTw tCzlTF fyviMj eqKilet aiJbZJU klGSHRU "
          ]
        }
      ]
    },
    {
      "cell_type": "markdown",
      "source": [
        "# (ii) WAP to print all prime numbers between 600 and 800.\n"
      ],
      "metadata": {
        "id": "1UqDfFv1ANbF"
      }
    },
    {
      "cell_type": "code",
      "source": [
        "def is_prime(n):\n",
        "    if n < 2:\n",
        "        return False\n",
        "    for j in range(2, int(n**0.5) + 1):\n",
        "        if n % j == 0:\n",
        "            return False\n",
        "    return True\n",
        "\n",
        "for num in range(600, 801):  # includes 800\n",
        "    if is_prime(num):\n",
        "        print(num, end=' ')"
      ],
      "metadata": {
        "colab": {
          "base_uri": "https://localhost:8080/"
        },
        "id": "8v0tbWkyANuH",
        "outputId": "906193bd-860d-4678-932e-6d577400278a"
      },
      "execution_count": null,
      "outputs": [
        {
          "output_type": "stream",
          "name": "stdout",
          "text": [
            "601 607 613 617 619 631 641 643 647 653 659 661 673 677 683 691 701 709 719 727 733 739 743 751 757 761 769 773 787 797 "
          ]
        }
      ]
    },
    {
      "cell_type": "markdown",
      "source": [
        "# (iii) WAP to print all numbers between 100 and 1000 that are divisible by 7 and 9."
      ],
      "metadata": {
        "id": "z03H49E-AN8Q"
      }
    },
    {
      "cell_type": "code",
      "source": [
        "def is_divisible(n):\n",
        "\n",
        "    if n % 7 == 0 and n % 9 == 0:\n",
        "        return True\n",
        "    else:\n",
        "        return False\n",
        "\n",
        "for num in range(100, 1000):\n",
        "    if is_divisible(num):\n",
        "        print(num, end=' ')"
      ],
      "metadata": {
        "colab": {
          "base_uri": "https://localhost:8080/"
        },
        "id": "21Dr6_fsAOLV",
        "outputId": "7bcccb49-e5e2-4f60-d415-3cb503177eaa"
      },
      "execution_count": null,
      "outputs": [
        {
          "output_type": "stream",
          "name": "stdout",
          "text": [
            "126 189 252 315 378 441 504 567 630 693 756 819 882 945 "
          ]
        }
      ]
    },
    {
      "cell_type": "markdown",
      "source": [
        "# Q5. WAP to create two lists of 10 random numbers between 10 and 30; Find\n",
        "(i) Common numbers in the two lists\n"
      ],
      "metadata": {
        "id": "L1BZ4gqgAOZw"
      }
    },
    {
      "cell_type": "code",
      "source": [
        "import random\n",
        "\n",
        "list1 = random.sample(range(10,31),10)\n",
        "list2 = random.sample(range(10,31),10)\n",
        "print(list1,list2)\n",
        "nums = set(list1).intersection(set(list2))\n",
        "print(\"common numbers:\")\n",
        "common_numbers = list(nums)\n",
        "common_numbers"
      ],
      "metadata": {
        "colab": {
          "base_uri": "https://localhost:8080/"
        },
        "id": "s1Gh-JApAOo3",
        "outputId": "475987cc-4bb9-4194-8374-b7873617e22d"
      },
      "execution_count": null,
      "outputs": [
        {
          "output_type": "stream",
          "name": "stdout",
          "text": [
            "[20, 24, 19, 16, 29, 11, 23, 15, 13, 27] [21, 10, 27, 16, 11, 29, 12, 26, 30, 13]\n",
            "common numbers:\n"
          ]
        },
        {
          "output_type": "execute_result",
          "data": {
            "text/plain": [
              "[11, 13, 16, 27, 29]"
            ]
          },
          "metadata": {},
          "execution_count": 107
        }
      ]
    },
    {
      "cell_type": "markdown",
      "source": [
        "(ii) Unique numbers in both the list\n"
      ],
      "metadata": {
        "id": "5zT6bEf-E0Jt"
      }
    },
    {
      "cell_type": "code",
      "source": [
        "unique_numbers = set(list1).symmetric_difference(set(list2))\n",
        "\n",
        "print(\"Unique numbers in both lists:\")\n",
        "print(list(unique_numbers))"
      ],
      "metadata": {
        "colab": {
          "base_uri": "https://localhost:8080/"
        },
        "id": "D9Xdh8QwE0hi",
        "outputId": "ffc9ef4e-4d17-4894-e2a1-cef98be869ff"
      },
      "execution_count": null,
      "outputs": [
        {
          "output_type": "stream",
          "name": "stdout",
          "text": [
            "Unique numbers in both lists:\n",
            "[10, 12, 15, 19, 20, 21, 23, 24, 26, 30]\n"
          ]
        }
      ]
    },
    {
      "cell_type": "markdown",
      "source": [
        "(iii) Minimum in both the list\n"
      ],
      "metadata": {
        "id": "wrq6K04SE0xX"
      }
    },
    {
      "cell_type": "code",
      "source": [
        "min(list1)"
      ],
      "metadata": {
        "colab": {
          "base_uri": "https://localhost:8080/"
        },
        "id": "aW1Jlt29E0-f",
        "outputId": "dd57be4f-8167-4dc3-aeba-ddeb80bec464"
      },
      "execution_count": null,
      "outputs": [
        {
          "output_type": "execute_result",
          "data": {
            "text/plain": [
              "11"
            ]
          },
          "metadata": {},
          "execution_count": 110
        }
      ]
    },
    {
      "cell_type": "code",
      "source": [
        "min(list2)"
      ],
      "metadata": {
        "colab": {
          "base_uri": "https://localhost:8080/"
        },
        "id": "1qFdiNp8FykG",
        "outputId": "842dcc34-06af-45ca-b76b-eb033d512c46"
      },
      "execution_count": null,
      "outputs": [
        {
          "output_type": "execute_result",
          "data": {
            "text/plain": [
              "10"
            ]
          },
          "metadata": {},
          "execution_count": 111
        }
      ]
    },
    {
      "cell_type": "markdown",
      "source": [
        "(iv) Maximum in both the list\n"
      ],
      "metadata": {
        "id": "1idqozL2E1MX"
      }
    },
    {
      "cell_type": "code",
      "source": [
        "max(list1)"
      ],
      "metadata": {
        "colab": {
          "base_uri": "https://localhost:8080/"
        },
        "id": "bavmC19zE1YV",
        "outputId": "831adbde-3228-4bc5-c496-b3ec006ac701"
      },
      "execution_count": null,
      "outputs": [
        {
          "output_type": "execute_result",
          "data": {
            "text/plain": [
              "29"
            ]
          },
          "metadata": {},
          "execution_count": 112
        }
      ]
    },
    {
      "cell_type": "code",
      "source": [
        "max(list2)"
      ],
      "metadata": {
        "colab": {
          "base_uri": "https://localhost:8080/"
        },
        "id": "8NVoXywFF1oH",
        "outputId": "7aa4abdd-ed06-4f84-f217-cddc366c3293"
      },
      "execution_count": null,
      "outputs": [
        {
          "output_type": "execute_result",
          "data": {
            "text/plain": [
              "30"
            ]
          },
          "metadata": {},
          "execution_count": 113
        }
      ]
    },
    {
      "cell_type": "markdown",
      "source": [
        "(v) Sum of both the lists"
      ],
      "metadata": {
        "id": "9MJoYRPNE78V"
      }
    },
    {
      "cell_type": "code",
      "source": [
        "list3 = list1 + list2\n",
        "list3"
      ],
      "metadata": {
        "colab": {
          "base_uri": "https://localhost:8080/"
        },
        "id": "EedgUL3QE8Lb",
        "outputId": "a353f874-0c87-4031-de69-4061c1eb0b40"
      },
      "execution_count": null,
      "outputs": [
        {
          "output_type": "execute_result",
          "data": {
            "text/plain": [
              "[20,\n",
              " 24,\n",
              " 19,\n",
              " 16,\n",
              " 29,\n",
              " 11,\n",
              " 23,\n",
              " 15,\n",
              " 13,\n",
              " 27,\n",
              " 21,\n",
              " 10,\n",
              " 27,\n",
              " 16,\n",
              " 11,\n",
              " 29,\n",
              " 12,\n",
              " 26,\n",
              " 30,\n",
              " 13]"
            ]
          },
          "metadata": {},
          "execution_count": 114
        }
      ]
    },
    {
      "cell_type": "markdown",
      "source": [
        "# Q6. WAP to create a list of 100 random numbers between 100 and 900. Count and print the:\n",
        "(i) All odd numbers\n"
      ],
      "metadata": {
        "id": "RnT8ACGAGPQC"
      }
    },
    {
      "cell_type": "code",
      "source": [
        "import random\n",
        "\n",
        "# Generate 100 random numbers\n",
        "nums = [random.randint(100, 900) for _ in range(100)]\n",
        "\n",
        "# Odd numbers\n",
        "odd_nums = [n for n in nums if n % 2 != 0]\n",
        "print(\"Odd numbers:\", odd_nums)\n",
        "\n",
        "\n"
      ],
      "metadata": {
        "colab": {
          "base_uri": "https://localhost:8080/"
        },
        "id": "afFu05_WGNZX",
        "outputId": "42c18c88-dd4a-4e99-da88-48afc0b2995a"
      },
      "execution_count": null,
      "outputs": [
        {
          "output_type": "stream",
          "name": "stdout",
          "text": [
            "Odd numbers: [541, 845, 273, 769, 687, 543, 819, 795, 195, 869, 179, 285, 159, 465, 459, 629, 781, 659, 177, 683, 151, 521, 765, 659, 863, 899, 887, 575, 383, 867, 843, 849, 105, 493, 245, 283, 259, 359, 487, 589, 215, 573, 419, 821, 407]\n"
          ]
        }
      ]
    },
    {
      "cell_type": "markdown",
      "source": [
        "# (ii) All even numbers\n"
      ],
      "metadata": {
        "id": "hwNFssZQGOHQ"
      }
    },
    {
      "cell_type": "code",
      "source": [
        "# Even numbers\n",
        "even_nums = [n for n in nums if n % 2 == 0]\n",
        "print(\"Even numbers:\", even_nums)\n",
        "\n"
      ],
      "metadata": {
        "colab": {
          "base_uri": "https://localhost:8080/"
        },
        "id": "sW1nnGiNGbIB",
        "outputId": "24fbf9ff-f50c-4e00-8e86-fa5ff3bc6962"
      },
      "execution_count": null,
      "outputs": [
        {
          "output_type": "stream",
          "name": "stdout",
          "text": [
            "Even numbers: [610, 660, 532, 346, 132, 704, 490, 514, 118, 288, 514, 174, 188, 208, 274, 630, 264, 362, 504, 312, 396, 130, 858, 650, 216, 276, 654, 324, 610, 646, 198, 698, 518, 804, 526, 286, 444, 794, 894, 398, 344, 604, 822, 706, 672, 780, 856, 188, 716, 832, 754, 488, 632, 284, 286]\n"
          ]
        }
      ]
    },
    {
      "cell_type": "markdown",
      "source": [
        "# (iii) All prime numbers"
      ],
      "metadata": {
        "id": "NMqMnN39Gbtt"
      }
    },
    {
      "cell_type": "code",
      "source": [
        "# Prime check function\n",
        "def is_prime(n):\n",
        "    if n < 2: return False\n",
        "    for i in range(2, int(n**0.5)+1):\n",
        "        if n % i == 0: return False\n",
        "        return True\n",
        "\n",
        "# Prime numbers\n",
        "prime_nums = [n for n in nums if is_prime(n)]\n",
        "print(\"Prime numbers:\", prime_nums)"
      ],
      "metadata": {
        "colab": {
          "base_uri": "https://localhost:8080/"
        },
        "id": "P1IhPl0hGdw3",
        "outputId": "5bed20bc-68f6-4677-e8c9-13ef5384262a"
      },
      "execution_count": null,
      "outputs": [
        {
          "output_type": "stream",
          "name": "stdout",
          "text": [
            "Prime numbers: [541, 845, 273, 769, 687, 543, 819, 795, 195, 869, 179, 285, 159, 465, 459, 629, 781, 659, 177, 683, 151, 521, 765, 659, 863, 899, 887, 575, 383, 867, 843, 849, 105, 493, 245, 283, 259, 359, 487, 589, 215, 573, 419, 821, 407]\n"
          ]
        }
      ]
    },
    {
      "cell_type": "markdown",
      "source": [
        "# Q7. D is a dictionary defined as D={1:\"One\",2:\"Two\",3:\"Three\",4:\"Four\", 5:\"Five\"}.\n",
        "\n",
        "WAP to read all the keys and values from dictionary and write to the file in the given below format.\n",
        "Key1, Value1\n",
        "Key2, Value2\n",
        "Key3, Value3"
      ],
      "metadata": {
        "id": "h6KZWglZG8BR"
      }
    },
    {
      "cell_type": "code",
      "source": [
        "D = {1: \"One\", 2: \"Two\", 3: \"Three\", 4: \"Four\", 5: \"Five\"}\n",
        "\n",
        "with open(\"dictionary_output.txt\", \"w\") as file:\n",
        "    for key, value in D.items():\n",
        "        file.write(f\"{key}, {value}\\n\")\n",
        "# output in dictionary_output.text\n",
        "# 1, One\n",
        "#2, Two\n",
        "#3, Three\n",
        "#4, Four\n",
        "#5, Five"
      ],
      "metadata": {
        "id": "XWqFGamiHB6N"
      },
      "execution_count": null,
      "outputs": []
    },
    {
      "cell_type": "markdown",
      "source": [
        "# Q8. L is a list defined as L={\"One\",\"Two\",\"Three\",\"Four\",\"Five\"}.\n",
        " WAP to count the length of reach element from a list and write to the file in the given below format:\n",
        "One, 3\n",
        "Two, 3\n",
        "Four, 4"
      ],
      "metadata": {
        "id": "Sm9BaBD9H4bm"
      }
    },
    {
      "cell_type": "code",
      "source": [
        "L = [\"One\", \"Two\", \"Three\", \"Four\", \"Five\"]\n",
        "\n",
        "\n",
        "with open(\"lengths_output.txt\", \"w\") as file:\n",
        "    for item in L:\n",
        "        file.write(f\"{item}, {len(item)}\\n\")\n",
        "\n",
        "'''\n",
        "output in lengths_output.txt\n",
        "One, 3\n",
        "Two, 3\n",
        "Three, 5\n",
        "Four, 4\n",
        "Five, 4 '''\n",
        "\n"
      ],
      "metadata": {
        "id": "E5jAcbMdH6Xm"
      },
      "execution_count": null,
      "outputs": []
    },
    {
      "cell_type": "markdown",
      "source": [
        "# Q9. Write to the file 100 random strings whose length between 10 and 15."
      ],
      "metadata": {
        "id": "z5iiq1_dIPr7"
      }
    },
    {
      "cell_type": "code",
      "source": [
        "import random\n",
        "from string import ascii_letters\n",
        "\n",
        "with open(\"random_strings_output.txt\", \"w\") as file:\n",
        "    for _ in range(100):\n",
        "        length = random.randint(10, 15)\n",
        "        rand_str = ''.join(random.choices(ascii_letters, k=length))\n",
        "        file.write(rand_str + '\\n')\n"
      ],
      "metadata": {
        "id": "MCQM9BD5ITyf"
      },
      "execution_count": null,
      "outputs": []
    },
    {
      "cell_type": "markdown",
      "source": [
        "# Q10. Write to the file all prime numbers between 600 and 800.\n"
      ],
      "metadata": {
        "id": "bMMG6EAHIUJZ"
      }
    },
    {
      "cell_type": "code",
      "source": [
        "def is_prime(n):\n",
        "    if n < 2:\n",
        "        return False\n",
        "    for i in range(2, int(n**0.5)+1):\n",
        "        if n % i == 0:\n",
        "            return False\n",
        "    return True\n",
        "\n",
        "with open(\"prime_600_800.txt\", \"w\") as file:\n",
        "    for num in range(600, 801):  # includes 800\n",
        "        if is_prime(num):\n",
        "            file.write(str(num) + '\\n')\n"
      ],
      "metadata": {
        "id": "2NHqUH5rIUjh"
      },
      "execution_count": null,
      "outputs": []
    },
    {
      "cell_type": "markdown",
      "source": [
        "# Q11. WAP to calculate the time taken by a program"
      ],
      "metadata": {
        "id": "dCGfoxo_IUyN"
      }
    },
    {
      "cell_type": "code",
      "source": [
        "import time\n",
        "\n",
        "# Start the timer\n",
        "start_time = time.time()\n",
        "\n",
        "# Sample task: Sum of first 1 million numbers\n",
        "total = sum(range(1, 1000001))\n",
        "\n",
        "# End the timer\n",
        "end_time = time.time()\n",
        "\n",
        "# Calculate time taken\n",
        "elapsed_time = end_time - start_time\n",
        "print(\"Time taken by the program:\", elapsed_time, \"seconds\")\n"
      ],
      "metadata": {
        "colab": {
          "base_uri": "https://localhost:8080/"
        },
        "id": "Jm4n68k_IVEJ",
        "outputId": "729d24e5-ce22-417f-f7bd-3a316cd923d3"
      },
      "execution_count": null,
      "outputs": [
        {
          "output_type": "stream",
          "name": "stdout",
          "text": [
            "Time taken by the program: 0.01769280433654785 seconds\n"
          ]
        }
      ]
    },
    {
      "cell_type": "markdown",
      "source": [
        "Q12. WAP to sort following number of elements in a list, calculate time taken and plot the graph.\n",
        "Number of elements in list Time Taken\n",
        "5k T1\n",
        "10k T2\n",
        "15k T3\n",
        "20k T4\n",
        "25k T5\n"
      ],
      "metadata": {
        "id": "dKKZbJktIVRJ"
      }
    },
    {
      "cell_type": "code",
      "source": [
        "import time\n",
        "import random\n",
        "import matplotlib.pyplot as plt\n",
        "\n",
        "sizes = [5000, 10000, 15000, 20000, 25000]\n",
        "times = []\n",
        "\n",
        "for size in sizes:\n",
        "    data = [random.randint(1, 1000000) for _ in range(size)]\n",
        "    start_time = time.time()\n",
        "    data.sort()\n",
        "    end_time = time.time()\n",
        "    elapsed = end_time - start_time\n",
        "    times.append(elapsed)\n",
        "    print(f\"{size} elements sorted in {elapsed:.4f} seconds\")\n",
        "\n",
        "# Plotting the size vs time\n",
        "plt.plot(sizes, times, marker='o', color='blue')\n",
        "plt.title(\"List Sorting Time Analysis\")\n",
        "plt.xlabel(\"Number of Elements\")\n",
        "plt.ylabel(\"Time Taken (seconds)\")\n",
        "plt.grid(True)\n",
        "plt.tight_layout()\n",
        "plt.show()\n"
      ],
      "metadata": {
        "colab": {
          "base_uri": "https://localhost:8080/",
          "height": 574
        },
        "id": "q0X4tRnwIVfL",
        "outputId": "cf56a220-c1d4-45bb-b7a9-3a59e800be68"
      },
      "execution_count": null,
      "outputs": [
        {
          "output_type": "stream",
          "name": "stdout",
          "text": [
            "5000 elements sorted in 0.0011 seconds\n",
            "10000 elements sorted in 0.0076 seconds\n",
            "15000 elements sorted in 0.0173 seconds\n",
            "20000 elements sorted in 0.0236 seconds\n",
            "25000 elements sorted in 0.0154 seconds\n"
          ]
        },
        {
          "output_type": "display_data",
          "data": {
            "text/plain": [
              "<Figure size 640x480 with 1 Axes>"
            ],
            "image/png": "[encoded data removed]"
          },
          "metadata": {}
        }
      ]
    },
    {
      "cell_type": "markdown",
      "source": [
        "Q13. WAP to create a dictionary of student marks in five subjects and you have to find the student\n",
        " having maximum and minimum average marks."
      ],
      "metadata": {
        "id": "dvMxvF1tI-Ba"
      }
    },
    {
      "cell_type": "code",
      "source": [
        "students = {\n",
        "    \"Alice\": [78, 85, 90, 88, 76],\n",
        "    \"Bob\": [65, 70, 72, 60, 68],\n",
        "    \"Charlie\": [90, 95, 93, 89, 94],\n",
        "    \"David\": [50, 55, 53, 52, 56],\n",
        "    \"Eva\": [80, 82, 79, 84, 81]\n",
        "}\n",
        "\n",
        "# Calculate averages\n",
        "averages = {name: sum(marks)/len(marks) for name, marks in students.items()}\n",
        "\n",
        "# Find student with max and min average\n",
        "max_student = max(averages, key=averages.get)\n",
        "min_student = min(averages, key=averages.get)\n",
        "\n",
        "print(\"Student with Maximum Average:\", max_student, \"-\", averages[max_student])\n",
        "print(\"Student with Minimum Average:\", min_student, \"-\", averages[min_student])\n"
      ],
      "metadata": {
        "colab": {
          "base_uri": "https://localhost:8080/"
        },
        "id": "gHqEVN8GI9yl",
        "outputId": "c115a57f-50d4-42f4-e58f-cc6eb37f9e56"
      },
      "execution_count": null,
      "outputs": [
        {
          "output_type": "stream",
          "name": "stdout",
          "text": [
            "Student with Maximum Average: Charlie - 92.2\n",
            "Student with Minimum Average: David - 53.2\n"
          ]
        }
      ]
    }
  ]
}
